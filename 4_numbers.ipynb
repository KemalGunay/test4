{
 "cells": [
  {
   "cell_type": "code",
   "execution_count": null,
   "id": "initial_id",
   "metadata": {
    "collapsed": true
   },
   "outputs": [],
   "source": [
    ""
   ]
  },
  {
   "metadata": {},
   "cell_type": "markdown",
   "source": [
    "# Python Numbers\n",
    "There are three numeric types in Python:\n",
    "\n",
    "int\n",
    "float\n",
    "complex\n",
    "\n",
    "Variables of numeric types are created when you assign a value to them\n"
   ],
   "id": "fa741a685c6b6a46"
  },
  {
   "metadata": {
    "ExecuteTime": {
     "end_time": "2024-09-23T19:54:28.120500Z",
     "start_time": "2024-09-23T19:54:28.117361Z"
    }
   },
   "cell_type": "code",
   "source": [
    "x = 3    # int\n",
    "y = 5.6  # float\n",
    "z = 3j   # complex"
   ],
   "id": "67e8b1acd28df7f7",
   "outputs": [],
   "execution_count": 1
  },
  {
   "metadata": {},
   "cell_type": "markdown",
   "source": "To verify the type of any object in Python, use the type() function",
   "id": "a0528726a4104088"
  },
  {
   "metadata": {
    "jupyter": {
     "is_executing": true
    }
   },
   "cell_type": "code",
   "source": [
    "print(type(x))\n",
    "print(type(y))\n",
    "print(type(z))"
   ],
   "id": "900a53e7f8cdb9f4",
   "outputs": [],
   "execution_count": null
  },
  {
   "metadata": {},
   "cell_type": "code",
   "outputs": [],
   "execution_count": null,
   "source": "",
   "id": "6c1c7283a9336da2"
  }
 ],
 "metadata": {
  "kernelspec": {
   "display_name": "Python 3",
   "language": "python",
   "name": "python3"
  },
  "language_info": {
   "codemirror_mode": {
    "name": "ipython",
    "version": 2
   },
   "file_extension": ".py",
   "mimetype": "text/x-python",
   "name": "python",
   "nbconvert_exporter": "python",
   "pygments_lexer": "ipython2",
   "version": "2.7.6"
  }
 },
 "nbformat": 4,
 "nbformat_minor": 5
}
