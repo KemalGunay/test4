{
 "cells": [
  {
   "metadata": {},
   "cell_type": "markdown",
   "source": [
    "# What is Python?\n",
    "Python is a popular programming language. It was created by Guido van Rossum, and released in 1991.\n",
    "\n",
    "link: https://www.linkedin.com/in/guido-van-rossum-4a0756/"
   ],
   "id": "d9d4250ea67e9524"
  },
  {
   "metadata": {},
   "cell_type": "markdown",
   "source": [
    "# What can Python do?\n",
    "* Python can be used on a server to create web applications.\n",
    "* Python can be used alongside software to create workflows.\n",
    "* Python can connect to database systems. It can also read and modify files.\n",
    "* Python can be used to handle big data and perform complex mathematics.\n",
    "* Python can be used for rapid prototyping, or for production-ready software development."
   ],
   "id": "3878831cb2864a29"
  },
  {
   "metadata": {},
   "cell_type": "markdown",
   "source": [
    "# Why Python?\n",
    "* Python works on different platforms (Windows, Mac, Linux, Raspberry Pi, etc).\n",
    "* Python has a simple syntax similar to the English language.\n",
    "* Python has syntax that allows developers to write programs with fewer lines than some other programming languages.\n",
    "* Python runs on an interpreter system, meaning that code can be executed as soon as it is written. This means that prototyping can be very quick.\n",
    "* Python can be treated in a procedural way, an object-oriented way or a functional way."
   ],
   "id": "80d725f94320ee7c"
  },
  {
   "metadata": {},
   "cell_type": "markdown",
   "source": [
    "# Python Install\n",
    "Many PCs and Macs will have python already installed.\n",
    "\n",
    "To check if you have python installed on a Windows PC, search in the start bar for Python or run the following on the Command Line (cmd.exe):\n",
    "\n",
    "Terminal:\n",
    "python --version"
   ],
   "id": "412df96a10e90528"
  },
  {
   "metadata": {},
   "cell_type": "code",
   "outputs": [],
   "execution_count": null,
   "source": [
    "# Python Version\n",
    "# To check the Python version of the editor, you can find it by importing the sys module:\n",
    "import sys\n",
    "\n",
    "print(sys.version)"
   ],
   "id": "1653a75e528192d2"
  },
  {
   "metadata": {},
   "cell_type": "markdown",
   "source": [
    "# The Python Command Line\n",
    "* To test a short amount of code in python sometimes it is quickest and easiest not to write the code in a file. This is made possible because Python can be run as a command line itself.\n",
    "\n",
    "* Type the following on the Windows, Mac or Linux command line:\n",
    "* Or, if the \"python\" command did not work, you can try \"py\":\n",
    "* From there you can write any python, including our hello world example from earlier in the tutorial:\n",
    "* print(\"Hello, World!\")\n",
    "* Whenever you are done in the python command line, you can simply type the following to quit the python command line interface:\n",
    "* exit()\n",
    "\n"
   ],
   "id": "b668136fae00df19"
  },
  {
   "metadata": {},
   "cell_type": "code",
   "outputs": [],
   "execution_count": null,
   "source": "# Numbers",
   "id": "294fce6e8f9c416d"
  },
  {
   "metadata": {
    "ExecuteTime": {
     "end_time": "2024-09-12T17:49:24.562305Z",
     "start_time": "2024-09-12T17:49:24.559792Z"
    }
   },
   "cell_type": "code",
   "source": "3",
   "id": "19dc70a9886ca585",
   "outputs": [
    {
     "data": {
      "text/plain": [
       "3"
      ]
     },
     "execution_count": 4,
     "metadata": {},
     "output_type": "execute_result"
    }
   ],
   "execution_count": 4
  },
  {
   "metadata": {
    "ExecuteTime": {
     "end_time": "2024-09-12T17:49:13.851111Z",
     "start_time": "2024-09-12T17:49:13.846068Z"
    }
   },
   "cell_type": "code",
   "source": "5.5",
   "id": "f005a834f9a2f3ae",
   "outputs": [
    {
     "data": {
      "text/plain": [
       "5.5"
      ]
     },
     "execution_count": 3,
     "metadata": {},
     "output_type": "execute_result"
    }
   ],
   "execution_count": 3
  },
  {
   "metadata": {
    "ExecuteTime": {
     "end_time": "2024-09-12T17:49:27.249040Z",
     "start_time": "2024-09-12T17:49:27.245376Z"
    }
   },
   "cell_type": "code",
   "source": "3 + 2",
   "id": "54d98fea2e0a2507",
   "outputs": [
    {
     "data": {
      "text/plain": [
       "5"
      ]
     },
     "execution_count": 5,
     "metadata": {},
     "output_type": "execute_result"
    }
   ],
   "execution_count": 5
  },
  {
   "metadata": {
    "ExecuteTime": {
     "end_time": "2024-09-12T17:49:36.521787Z",
     "start_time": "2024-09-12T17:49:36.518727Z"
    }
   },
   "cell_type": "code",
   "source": "4 * 5",
   "id": "3e58178b5573acf4",
   "outputs": [
    {
     "data": {
      "text/plain": [
       "20"
      ]
     },
     "execution_count": 6,
     "metadata": {},
     "output_type": "execute_result"
    }
   ],
   "execution_count": 6
  },
  {
   "metadata": {
    "ExecuteTime": {
     "end_time": "2024-09-12T17:50:01.234422Z",
     "start_time": "2024-09-12T17:50:01.230612Z"
    }
   },
   "cell_type": "code",
   "source": [
    "if 9 > 3:\n",
    "  print(\"nine is greater than three!\")"
   ],
   "id": "87b666edaddc0a6f",
   "outputs": [
    {
     "name": "stdout",
     "output_type": "stream",
     "text": [
      "Five is bigger than two!\n"
     ]
    }
   ],
   "execution_count": 8
  },
  {
   "metadata": {
    "ExecuteTime": {
     "end_time": "2024-09-12T17:50:21.212766Z",
     "start_time": "2024-09-12T17:50:21.208613Z"
    }
   },
   "cell_type": "code",
   "source": "print(\"hellow class\")",
   "id": "8fd85ecaa0af555a",
   "outputs": [
    {
     "name": "stdout",
     "output_type": "stream",
     "text": [
      "hellow class\n"
     ]
    }
   ],
   "execution_count": 9
  },
  {
   "metadata": {
    "ExecuteTime": {
     "end_time": "2024-09-12T17:50:28.891580Z",
     "start_time": "2024-09-12T17:50:28.884655Z"
    }
   },
   "cell_type": "code",
   "source": "type(9)",
   "id": "39757866bbb9583f",
   "outputs": [
    {
     "data": {
      "text/plain": [
       "int"
      ]
     },
     "execution_count": 10,
     "metadata": {},
     "output_type": "execute_result"
    }
   ],
   "execution_count": 10
  },
  {
   "metadata": {
    "ExecuteTime": {
     "end_time": "2024-09-12T17:50:39.217631Z",
     "start_time": "2024-09-12T17:50:39.213088Z"
    }
   },
   "cell_type": "code",
   "source": "type(\"kemal\")",
   "id": "29db86cb95471fe3",
   "outputs": [
    {
     "data": {
      "text/plain": [
       "str"
      ]
     },
     "execution_count": 12,
     "metadata": {},
     "output_type": "execute_result"
    }
   ],
   "execution_count": 12
  },
  {
   "metadata": {},
   "cell_type": "markdown",
   "source": [
    "# Comments\n",
    "Comments can be used to explain Python code.\n",
    "\n",
    "Comments can be used to make the code more readable.\n",
    "\n",
    "Comments can be used to prevent execution when testing code."
   ],
   "id": "636cfb1cb7cb1677"
  },
  {
   "metadata": {
    "ExecuteTime": {
     "end_time": "2024-09-12T18:08:33.709635Z",
     "start_time": "2024-09-12T18:08:33.705162Z"
    }
   },
   "cell_type": "code",
   "source": [
    "#This is a comment\n",
    "print(\"Hello, World!\")"
   ],
   "id": "2a79af4abf67491",
   "outputs": [
    {
     "name": "stdout",
     "output_type": "stream",
     "text": [
      "Hello, World!\n"
     ]
    }
   ],
   "execution_count": 13
  },
  {
   "metadata": {},
   "cell_type": "markdown",
   "source": "Comments can be placed at the end of a line and Python ignores the rest of the line:",
   "id": "7701aa5389fbe5e0"
  },
  {
   "metadata": {},
   "cell_type": "code",
   "outputs": [],
   "execution_count": null,
   "source": "print(\"Hello, World!\") # This is comment",
   "id": "a39f92119496f82d"
  },
  {
   "metadata": {},
   "cell_type": "markdown",
   "source": "A comment need not be text describing the code, it can also be used to prevent Python from executing code:",
   "id": "736113f6685069a5"
  },
  {
   "metadata": {
    "ExecuteTime": {
     "end_time": "2024-09-12T18:10:20.626700Z",
     "start_time": "2024-09-12T18:10:20.623204Z"
    }
   },
   "cell_type": "code",
   "source": [
    "#print(\"Hello, World!\")\n",
    "print(\"Hello people\")"
   ],
   "id": "cf055cb1615c1f6b",
   "outputs": [
    {
     "name": "stdout",
     "output_type": "stream",
     "text": [
      "Hello people\n"
     ]
    }
   ],
   "execution_count": 16
  },
  {
   "metadata": {},
   "cell_type": "markdown",
   "source": "To add a multi-line comment, you can add a # to each line.",
   "id": "dc8e9cecc6d2efa"
  },
  {
   "metadata": {
    "ExecuteTime": {
     "end_time": "2024-09-12T18:11:35.356363Z",
     "start_time": "2024-09-12T18:11:35.354090Z"
    }
   },
   "cell_type": "code",
   "source": [
    "# it's a comment\n",
    "# you need to fix this code\n",
    "# look at the data again\n",
    "print(\"Hello World\")"
   ],
   "id": "faac10981aadecf4",
   "outputs": [
    {
     "name": "stdout",
     "output_type": "stream",
     "text": [
      "Hello World\n"
     ]
    }
   ],
   "execution_count": 18
  },
  {
   "metadata": {},
   "cell_type": "markdown",
   "source": "If you want to add a multi-line string to your script, you can do so with ‘’’ triple quotes.",
   "id": "f6edc9bdb789abec"
  },
  {
   "metadata": {
    "ExecuteTime": {
     "end_time": "2024-09-12T18:14:06.468112Z",
     "start_time": "2024-09-12T18:14:06.464954Z"
    }
   },
   "cell_type": "code",
   "source": [
    "def multiplication(x, y):\n",
    "    \"\"\"\n",
    "    \n",
    "    :param x: must be int\n",
    "    :param y: must be int \n",
    "    :return: \n",
    "    \"\"\"\n",
    "    \n",
    "    print(x * y)"
   ],
   "id": "933d835a2799aad1",
   "outputs": [],
   "execution_count": 21
  },
  {
   "metadata": {
    "ExecuteTime": {
     "end_time": "2024-09-12T18:13:26.616676Z",
     "start_time": "2024-09-12T18:13:26.613887Z"
    }
   },
   "cell_type": "code",
   "source": "multiplication(5,4)",
   "id": "da4f794946f3dd72",
   "outputs": [
    {
     "name": "stdout",
     "output_type": "stream",
     "text": [
      "20\n"
     ]
    }
   ],
   "execution_count": 20
  },
  {
   "metadata": {},
   "cell_type": "markdown",
   "source": [
    "# Python Variables\n",
    "Variables are used to store data values.\n",
    "\n",
    "# Creating Variables\n",
    "Python does not have a command to declare a variable.\n",
    "\n",
    "A variable is created the first time you assign a value to a variable."
   ],
   "id": "79b614836547b7af"
  },
  {
   "metadata": {
    "ExecuteTime": {
     "end_time": "2024-09-12T18:18:04.669926Z",
     "start_time": "2024-09-12T18:18:04.667756Z"
    }
   },
   "cell_type": "code",
   "source": [
    "var1 = 5\n",
    "var2 = 3\n",
    "print(var1)\n",
    "print(var2)"
   ],
   "id": "e8a0e19e772477b4",
   "outputs": [
    {
     "name": "stdout",
     "output_type": "stream",
     "text": [
      "5\n",
      "3\n"
     ]
    }
   ],
   "execution_count": 24
  },
  {
   "metadata": {
    "ExecuteTime": {
     "end_time": "2024-09-12T18:18:13.779766Z",
     "start_time": "2024-09-12T18:18:13.773892Z"
    }
   },
   "cell_type": "code",
   "source": "var1 * var2",
   "id": "1f8bf393f8a9483e",
   "outputs": [
    {
     "data": {
      "text/plain": [
       "15"
      ]
     },
     "execution_count": 25,
     "metadata": {},
     "output_type": "execute_result"
    }
   ],
   "execution_count": 25
  },
  {
   "metadata": {},
   "cell_type": "markdown",
   "source": "Variables can change type after they are set and are not required to be stated with a certain type.",
   "id": "2f3c44ac55ee511b"
  },
  {
   "metadata": {
    "ExecuteTime": {
     "end_time": "2024-09-12T18:21:41.518670Z",
     "start_time": "2024-09-12T18:21:41.513628Z"
    }
   },
   "cell_type": "code",
   "source": [
    "# Example\n",
    "x = 9# x is of type int\n",
    "type(x)"
   ],
   "id": "f31c44faa566364c",
   "outputs": [
    {
     "data": {
      "text/plain": [
       "int"
      ]
     },
     "execution_count": 26,
     "metadata": {},
     "output_type": "execute_result"
    }
   ],
   "execution_count": 26
  },
  {
   "metadata": {
    "ExecuteTime": {
     "end_time": "2024-09-12T18:21:47.379385Z",
     "start_time": "2024-09-12T18:21:47.375725Z"
    }
   },
   "cell_type": "code",
   "source": [
    "x = \"James\" # x is now of type str\n",
    "print(x)"
   ],
   "id": "afaa29ed9d2a7b90",
   "outputs": [
    {
     "name": "stdout",
     "output_type": "stream",
     "text": [
      "James\n"
     ]
    }
   ],
   "execution_count": 27
  },
  {
   "metadata": {
    "ExecuteTime": {
     "end_time": "2024-09-12T18:21:54.751263Z",
     "start_time": "2024-09-12T18:21:54.747939Z"
    }
   },
   "cell_type": "code",
   "source": "type(x)",
   "id": "93ee0948dd54796",
   "outputs": [
    {
     "data": {
      "text/plain": [
       "str"
      ]
     },
     "execution_count": 28,
     "metadata": {},
     "output_type": "execute_result"
    }
   ],
   "execution_count": 28
  },
  {
   "metadata": {},
   "cell_type": "markdown",
   "source": [
    "# Casting\n",
    "If you want to specify the data type of a variable, this can be done with casting."
   ],
   "id": "3d1a30f0770594c6"
  },
  {
   "metadata": {
    "ExecuteTime": {
     "end_time": "2024-09-12T18:23:49.926409Z",
     "start_time": "2024-09-12T18:23:49.920675Z"
    }
   },
   "cell_type": "code",
   "source": [
    "x = str(9)    # x will be '3'\n",
    "y = int(9)    # y will be 3\n",
    "z = float(9)  # z will be 3.0"
   ],
   "id": "a47e0ea26abd0101",
   "outputs": [],
   "execution_count": 29
  },
  {
   "metadata": {},
   "cell_type": "markdown",
   "source": [
    "# Get the Type\n",
    "You can get the data type of a variable with the type() function."
   ],
   "id": "21203d422a77a33a"
  },
  {
   "metadata": {
    "ExecuteTime": {
     "end_time": "2024-09-12T18:25:17.928974Z",
     "start_time": "2024-09-12T18:25:17.925823Z"
    }
   },
   "cell_type": "code",
   "source": [
    "x = 9\n",
    "y = \"Jason\"\n",
    "print(type(x))\n",
    "print(type(y))"
   ],
   "id": "f4ec319829626766",
   "outputs": [
    {
     "name": "stdout",
     "output_type": "stream",
     "text": [
      "<class 'int'>\n",
      "<class 'str'>\n"
     ]
    }
   ],
   "execution_count": 32
  },
  {
   "metadata": {
    "ExecuteTime": {
     "end_time": "2024-09-12T18:25:01.781405Z",
     "start_time": "2024-09-12T18:25:01.776037Z"
    }
   },
   "cell_type": "code",
   "source": "type(x)",
   "id": "e516833dcdf91be2",
   "outputs": [
    {
     "data": {
      "text/plain": [
       "int"
      ]
     },
     "execution_count": 31,
     "metadata": {},
     "output_type": "execute_result"
    }
   ],
   "execution_count": 31
  },
  {
   "metadata": {},
   "cell_type": "markdown",
   "source": [
    "# Single or Double Quotes?\n",
    "String variables can be declared either by using single or double quotes:"
   ],
   "id": "c7cc4cfe98616ad0"
  },
  {
   "metadata": {},
   "cell_type": "code",
   "outputs": [],
   "execution_count": null,
   "source": "",
   "id": "2a07c908437dd435"
  }
 ],
 "metadata": {
  "kernelspec": {
   "display_name": "Python 3",
   "language": "python",
   "name": "python3"
  },
  "language_info": {
   "codemirror_mode": {
    "name": "ipython",
    "version": 2
   },
   "file_extension": ".py",
   "mimetype": "text/x-python",
   "name": "python",
   "nbconvert_exporter": "python",
   "pygments_lexer": "ipython2",
   "version": "2.7.6"
  }
 },
 "nbformat": 4,
 "nbformat_minor": 5
}
